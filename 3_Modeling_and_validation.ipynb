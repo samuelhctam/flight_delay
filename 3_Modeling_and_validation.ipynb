{
 "cells": [
  {
   "cell_type": "code",
   "execution_count": 4,
   "metadata": {},
   "outputs": [],
   "source": [
    "import sklearn as sk\n",
    "import xgboost as xg\n",
    "import catboost as ct\n",
    "import lightgbm as lg\n",
    "import numpy as np\n",
    "import pandas as pd\n"
   ]
  },
  {
   "cell_type": "code",
   "execution_count": 5,
   "metadata": {},
   "outputs": [
    {
     "name": "stdout",
     "output_type": "stream",
     "text": [
      "0.19.1\n",
      "0.72\n",
      "0.9.1\n",
      "2.1.0\n",
      "1.14.2\n",
      "0.23.4\n"
     ]
    }
   ],
   "source": [
    "print sk.__version__\n",
    "print xg.__version__\n",
    "print ct.__version__\n",
    "print lg.__version__\n",
    "print np.__version__\n",
    "print pd.__version__"
   ]
  },
  {
   "cell_type": "code",
   "execution_count": null,
   "metadata": {},
   "outputs": [],
   "source": []
  },
  {
   "cell_type": "code",
   "execution_count": null,
   "metadata": {},
   "outputs": [],
   "source": [
    "#Split for train and validation"
   ]
  },
  {
   "cell_type": "code",
   "execution_count": null,
   "metadata": {},
   "outputs": [],
   "source": []
  },
  {
   "cell_type": "code",
   "execution_count": null,
   "metadata": {},
   "outputs": [],
   "source": []
  },
  {
   "cell_type": "code",
   "execution_count": 1,
   "metadata": {},
   "outputs": [],
   "source": [
    "def train_model(classifier, feature_vector_train, label, feature_vector_valid, is_neural_net=False):\n",
    "    # fit the training dataset on the classifier\n",
    "    classifier.fit(feature_vector_train, label)\n",
    "    \n",
    "    # predict the labels on validation dataset\n",
    "    predictions = classifier.predict(feature_vector_valid)\n",
    "    \n",
    "    if is_neural_net:\n",
    "        predictions = predictions.argmax(axis=-1)\n",
    "    \n",
    "    return metrics.accuracy_score(predictions, valid_y)"
   ]
  },
  {
   "cell_type": "code",
   "execution_count": null,
   "metadata": {},
   "outputs": [],
   "source": [
    "# Linear Classifier\n",
    "accuracy = train_model(linear_model.LogisticRegression(), xtrain_count, train_y, xvalid_count)\n",
    "print \"LR: \", accuracy"
   ]
  },
  {
   "cell_type": "code",
   "execution_count": null,
   "metadata": {},
   "outputs": [],
   "source": [
    "# Decission Tree"
   ]
  },
  {
   "cell_type": "code",
   "execution_count": null,
   "metadata": {},
   "outputs": [],
   "source": [
    "# SVM on Ngram Level TF IDF Vectors\n",
    "accuracy = train_model(svm.SVC(), xtrain_tfidf_ngram, train_y, xvalid_tfidf_ngram)\n",
    "print \"SVM, N-Gram Vectors: \", accuracy"
   ]
  },
  {
   "cell_type": "code",
   "execution_count": null,
   "metadata": {},
   "outputs": [],
   "source": [
    "# RF on Count Vectors\n",
    "accuracy = train_model(ensemble.RandomForestClassifier(), xtrain_count, train_y, xvalid_count)\n",
    "print \"RF, Count Vectors: \", accuracy"
   ]
  },
  {
   "cell_type": "code",
   "execution_count": null,
   "metadata": {},
   "outputs": [],
   "source": [
    "# Extereme Gradient Boosting on Count Vectors\n",
    "accuracy = train_model(xgboost.XGBClassifier(), xtrain_count.tocsc(), train_y, xvalid_count.tocsc())\n",
    "print \"Xgb, Count Vectors: \", accuracy"
   ]
  },
  {
   "cell_type": "code",
   "execution_count": null,
   "metadata": {},
   "outputs": [],
   "source": [
    "#LGBM"
   ]
  },
  {
   "cell_type": "code",
   "execution_count": null,
   "metadata": {},
   "outputs": [],
   "source": [
    "lgb_res = lgb.train(params = {'application': 'binary',\n",
    " 'max_depth': 5,\n",
    " 'metric': 'auc',\n",
    " 'min_data_in_leaf': 200,\n",
    " 'num_leaves': 500,\n",
    " 'verbose': 1},\n",
    "         train_set = lgb.Dataset(txt_df[:336389], free_text_combined_df.iloc[:336389][\"target\"]),\n",
    "         num_boost_round = 500,\n",
    "        early_stopping_rounds = 100,\n",
    "         valid_sets = lgb.Dataset(txt_df[336390:], free_text_combined_df.iloc[336390:][\"target\"]))"
   ]
  },
  {
   "cell_type": "code",
   "execution_count": null,
   "metadata": {},
   "outputs": [],
   "source": [
    "df= pd.DataFrame({\"value\" : lgb_res.feature_importance(), \"name\" : vec.get_feature_names()})"
   ]
  },
  {
   "cell_type": "code",
   "execution_count": null,
   "metadata": {},
   "outputs": [],
   "source": []
  },
  {
   "cell_type": "code",
   "execution_count": null,
   "metadata": {},
   "outputs": [],
   "source": [
    "#Catboosts"
   ]
  },
  {
   "cell_type": "code",
   "execution_count": null,
   "metadata": {},
   "outputs": [],
   "source": []
  },
  {
   "cell_type": "code",
   "execution_count": 2,
   "metadata": {},
   "outputs": [],
   "source": []
  },
  {
   "cell_type": "code",
   "execution_count": null,
   "metadata": {},
   "outputs": [],
   "source": []
  },
  {
   "cell_type": "code",
   "execution_count": null,
   "metadata": {},
   "outputs": [],
   "source": [
    "model_Y = None\n",
    "model_N = None\n",
    "#model_Y =  CatAXA_Y.model\n",
    "#model_N =  CatAXA_N.model\n",
    "\n",
    "CatAXA_Y_c = CatboostAXA(df10.fillna(0),\n",
    "              filter_train = (filter_train_true),\n",
    "              filter_eval = (filter_eval_true),\n",
    "              features = features\n",
    "              ,label = \"target\",\n",
    "                cat_features = model.cat_features,\n",
    "                      model = model_Y)\n",
    "\n",
    "CatAXA_N_c = CatboostAXA(df10.fillna(0),\n",
    "              filter_train = (filter_train_false),\n",
    "              filter_eval = (filter_eval_false),\n",
    "              features = features\n",
    "              ,label = \"target\",\n",
    "                cat_features = model.cat_features,\n",
    "                      model = model_N)"
   ]
  },
  {
   "cell_type": "code",
   "execution_count": null,
   "metadata": {},
   "outputs": [],
   "source": [
    "params = {\"loss_function\" : \"Logloss\",\n",
    "         \"eval_metric\" : \"AUC\",\n",
    "         \"one_hot_max_size\" : 8,\n",
    "         \"max_ctr_complexity\" : 1  \n",
    "         }\n",
    "\n",
    "\n",
    "CatAXA_Y_c.get_model(**params)\n",
    "CatAXA_N_c.get_model(**params)\n",
    "CatAXA_Y_c.fit(num_boost_round = 10, verbose = 100)\n",
    "CatAXA_N_c.fit(num_boost_round = 10, verbose = 100)"
   ]
  }
 ],
 "metadata": {
  "kernelspec": {
   "display_name": "Python 2",
   "language": "python",
   "name": "python2"
  },
  "language_info": {
   "codemirror_mode": {
    "name": "ipython",
    "version": 2
   },
   "file_extension": ".py",
   "mimetype": "text/x-python",
   "name": "python",
   "nbconvert_exporter": "python",
   "pygments_lexer": "ipython2",
   "version": "2.7.14"
  }
 },
 "nbformat": 4,
 "nbformat_minor": 2
}
